{
 "cells": [
  {
   "cell_type": "code",
   "execution_count": 1,
   "id": "75b3a8e1",
   "metadata": {
    "_cell_guid": "b1076dfc-b9ad-4769-8c92-a6c4dae69d19",
    "_uuid": "8f2839f25d086af736a60e9eeb907d3b93b6e0e5",
    "execution": {
     "iopub.execute_input": "2022-11-25T10:55:24.324227Z",
     "iopub.status.busy": "2022-11-25T10:55:24.323414Z",
     "iopub.status.idle": "2022-11-25T10:55:24.335731Z",
     "shell.execute_reply": "2022-11-25T10:55:24.334453Z"
    },
    "papermill": {
     "duration": 0.027667,
     "end_time": "2022-11-25T10:55:24.339159",
     "exception": false,
     "start_time": "2022-11-25T10:55:24.311492",
     "status": "completed"
    },
    "tags": []
   },
   "outputs": [
    {
     "name": "stdout",
     "output_type": "stream",
     "text": [
      "/kaggle/input/marketing-strategy-personalised-offer/sample.csv\n",
      "/kaggle/input/marketing-strategy-personalised-offer/train_data.csv\n",
      "/kaggle/input/marketing-strategy-personalised-offer/test_data.csv\n"
     ]
    }
   ],
   "source": [
    "# This Python 3 environment comes with many helpful analytics libraries installed\n",
    "# It is defined by the kaggle/python Docker image: https://github.com/kaggle/docker-python\n",
    "# For example, here's several helpful packages to load\n",
    "\n",
    "import numpy as np # linear algebra\n",
    "import pandas as pd # data processing, CSV file I/O (e.g. pd.read_csv)\n",
    "\n",
    "# Input data files are available in the read-only \"../input/\" directory\n",
    "# For example, running this (by clicking run or pressing Shift+Enter) will list all files under the input directory\n",
    "\n",
    "# import os\n",
    "# for dirname, _, filenames in os.walk('/kaggle/input'):\n",
    "#     for filename in filenames:\n",
    "#         print(os.path.join(dirname, filename))\n",
    "\n",
    "# You can write up to 20GB to the current directory (/kaggle/working/) that gets preserved as output when you create a version using \"Save & Run All\" \n",
    "# You can also write temporary files to /kaggle/temp/, but they won't be saved outside of the current session"
   ]
  },
  {
   "cell_type": "code",
   "execution_count": 2,
   "id": "ab5fdd6d",
   "metadata": {
    "execution": {
     "iopub.execute_input": "2022-11-25T10:55:24.359592Z",
     "iopub.status.busy": "2022-11-25T10:55:24.359128Z",
     "iopub.status.idle": "2022-11-25T10:55:24.370017Z",
     "shell.execute_reply": "2022-11-25T10:55:24.369359Z"
    },
    "papermill": {
     "duration": 0.022975,
     "end_time": "2022-11-25T10:55:24.371708",
     "exception": false,
     "start_time": "2022-11-25T10:55:24.348733",
     "status": "completed"
    },
    "tags": []
   },
   "outputs": [],
   "source": [
    "pd.options.display.max_columns = None\n",
    "%config Completer.use_jedi = False"
   ]
  },
  {
   "cell_type": "code",
   "execution_count": 3,
   "id": "b68f1b23",
   "metadata": {
    "execution": {
     "iopub.execute_input": "2022-11-25T10:55:24.393362Z",
     "iopub.status.busy": "2022-11-25T10:55:24.392839Z",
     "iopub.status.idle": "2022-11-25T10:55:24.474787Z",
     "shell.execute_reply": "2022-11-25T10:55:24.474036Z"
    },
    "papermill": {
     "duration": 0.09454,
     "end_time": "2022-11-25T10:55:24.476768",
     "exception": false,
     "start_time": "2022-11-25T10:55:24.382228",
     "status": "completed"
    },
    "tags": []
   },
   "outputs": [],
   "source": [
    "df=pd.read_csv('../input/marketing-strategy-personalised-offer/train_data.csv')"
   ]
  },
  {
   "cell_type": "code",
   "execution_count": 4,
   "id": "89be2e48",
   "metadata": {
    "execution": {
     "iopub.execute_input": "2022-11-25T10:55:24.497791Z",
     "iopub.status.busy": "2022-11-25T10:55:24.497232Z",
     "iopub.status.idle": "2022-11-25T10:55:24.540437Z",
     "shell.execute_reply": "2022-11-25T10:55:24.539435Z"
    },
    "papermill": {
     "duration": 0.055721,
     "end_time": "2022-11-25T10:55:24.542728",
     "exception": false,
     "start_time": "2022-11-25T10:55:24.487007",
     "status": "completed"
    },
    "tags": []
   },
   "outputs": [],
   "source": [
    "test=pd.read_csv('../input/marketing-strategy-personalised-offer/test_data.csv')"
   ]
  },
  {
   "cell_type": "code",
   "execution_count": 5,
   "id": "c80ddb1b",
   "metadata": {
    "execution": {
     "iopub.execute_input": "2022-11-25T10:55:24.563830Z",
     "iopub.status.busy": "2022-11-25T10:55:24.563514Z",
     "iopub.status.idle": "2022-11-25T10:55:24.598293Z",
     "shell.execute_reply": "2022-11-25T10:55:24.597176Z"
    },
    "papermill": {
     "duration": 0.047962,
     "end_time": "2022-11-25T10:55:24.600602",
     "exception": false,
     "start_time": "2022-11-25T10:55:24.552640",
     "status": "completed"
    },
    "tags": []
   },
   "outputs": [
    {
     "data": {
      "text/html": [
       "<div>\n",
       "<style scoped>\n",
       "    .dataframe tbody tr th:only-of-type {\n",
       "        vertical-align: middle;\n",
       "    }\n",
       "\n",
       "    .dataframe tbody tr th {\n",
       "        vertical-align: top;\n",
       "    }\n",
       "\n",
       "    .dataframe thead th {\n",
       "        text-align: right;\n",
       "    }\n",
       "</style>\n",
       "<table border=\"1\" class=\"dataframe\">\n",
       "  <thead>\n",
       "    <tr style=\"text-align: right;\">\n",
       "      <th></th>\n",
       "      <th>offer expiration</th>\n",
       "      <th>income_range</th>\n",
       "      <th>no_visited_Cold drinks</th>\n",
       "      <th>travelled_more_than_15mins_for_offer</th>\n",
       "      <th>Restaur_spend_less_than20</th>\n",
       "      <th>Marital Status</th>\n",
       "      <th>restaurant type</th>\n",
       "      <th>age</th>\n",
       "      <th>Prefer western over chinese</th>\n",
       "      <th>travelled_more_than_25mins_for_offer</th>\n",
       "      <th>travelled_more_than_5mins_for_offer</th>\n",
       "      <th>no_visited_bars</th>\n",
       "      <th>gender</th>\n",
       "      <th>car</th>\n",
       "      <th>restuarant_same_direction_house</th>\n",
       "      <th>Cooks regularly</th>\n",
       "      <th>Customer type</th>\n",
       "      <th>Qualification</th>\n",
       "      <th>is foodie</th>\n",
       "      <th>no_Take-aways</th>\n",
       "      <th>Job/Job Industry</th>\n",
       "      <th>restuarant_opposite_direction_house</th>\n",
       "      <th>has Children</th>\n",
       "      <th>visit restaurant with rating (avg)</th>\n",
       "      <th>temperature</th>\n",
       "      <th>Restaur_spend_greater_than20</th>\n",
       "      <th>Travel Time</th>\n",
       "      <th>Climate</th>\n",
       "      <th>drop location</th>\n",
       "      <th>Prefer home food</th>\n",
       "      <th>Offer Accepted</th>\n",
       "    </tr>\n",
       "  </thead>\n",
       "  <tbody>\n",
       "    <tr>\n",
       "      <th>0</th>\n",
       "      <td>2days</td>\n",
       "      <td>₹100000 or More</td>\n",
       "      <td>4~8</td>\n",
       "      <td>1</td>\n",
       "      <td>less1</td>\n",
       "      <td>Married partner</td>\n",
       "      <td>4 star restaurant</td>\n",
       "      <td>36</td>\n",
       "      <td>0</td>\n",
       "      <td>0</td>\n",
       "      <td>1</td>\n",
       "      <td>less1</td>\n",
       "      <td>Female</td>\n",
       "      <td>NaN</td>\n",
       "      <td>0</td>\n",
       "      <td>1</td>\n",
       "      <td>Individual</td>\n",
       "      <td>Bachelors degree</td>\n",
       "      <td>0</td>\n",
       "      <td>1~3</td>\n",
       "      <td>Unemployed</td>\n",
       "      <td>0</td>\n",
       "      <td>0</td>\n",
       "      <td>4</td>\n",
       "      <td>67</td>\n",
       "      <td>less1</td>\n",
       "      <td>22</td>\n",
       "      <td>Spring</td>\n",
       "      <td>Location B</td>\n",
       "      <td>0</td>\n",
       "      <td>No</td>\n",
       "    </tr>\n",
       "    <tr>\n",
       "      <th>1</th>\n",
       "      <td>2days</td>\n",
       "      <td>₹87500 - ₹99999</td>\n",
       "      <td>4~8</td>\n",
       "      <td>0</td>\n",
       "      <td>4~8</td>\n",
       "      <td>Married partner</td>\n",
       "      <td>Take-away restaurant</td>\n",
       "      <td>50plus</td>\n",
       "      <td>0</td>\n",
       "      <td>0</td>\n",
       "      <td>1</td>\n",
       "      <td>never</td>\n",
       "      <td>Female</td>\n",
       "      <td>NaN</td>\n",
       "      <td>1</td>\n",
       "      <td>1</td>\n",
       "      <td>Individual</td>\n",
       "      <td>Bachelors degree</td>\n",
       "      <td>0</td>\n",
       "      <td>1~3</td>\n",
       "      <td>Unemployed</td>\n",
       "      <td>0</td>\n",
       "      <td>1</td>\n",
       "      <td>3</td>\n",
       "      <td>89</td>\n",
       "      <td>1~3</td>\n",
       "      <td>18</td>\n",
       "      <td>Summer</td>\n",
       "      <td>Location B</td>\n",
       "      <td>0</td>\n",
       "      <td>Yes</td>\n",
       "    </tr>\n",
       "    <tr>\n",
       "      <th>2</th>\n",
       "      <td>2days</td>\n",
       "      <td>₹87500 - ₹99999</td>\n",
       "      <td>less1</td>\n",
       "      <td>1</td>\n",
       "      <td>1~3</td>\n",
       "      <td>Single</td>\n",
       "      <td>Cold drinks</td>\n",
       "      <td>26</td>\n",
       "      <td>1</td>\n",
       "      <td>0</td>\n",
       "      <td>1</td>\n",
       "      <td>never</td>\n",
       "      <td>Female</td>\n",
       "      <td>Mazda5</td>\n",
       "      <td>1</td>\n",
       "      <td>0</td>\n",
       "      <td>Individual</td>\n",
       "      <td>Bachelors degree</td>\n",
       "      <td>1</td>\n",
       "      <td>1~3</td>\n",
       "      <td>Arts Design Entertainment Sports &amp; Media</td>\n",
       "      <td>1</td>\n",
       "      <td>1</td>\n",
       "      <td>4</td>\n",
       "      <td>67</td>\n",
       "      <td>less1</td>\n",
       "      <td>7</td>\n",
       "      <td>Winter</td>\n",
       "      <td>Location A</td>\n",
       "      <td>1</td>\n",
       "      <td>Yes</td>\n",
       "    </tr>\n",
       "    <tr>\n",
       "      <th>3</th>\n",
       "      <td>10hours</td>\n",
       "      <td>₹37500 - ₹49999</td>\n",
       "      <td>less1</td>\n",
       "      <td>0</td>\n",
       "      <td>1~3</td>\n",
       "      <td>Single</td>\n",
       "      <td>Take-away restaurant</td>\n",
       "      <td>46</td>\n",
       "      <td>1</td>\n",
       "      <td>0</td>\n",
       "      <td>1</td>\n",
       "      <td>never</td>\n",
       "      <td>Male</td>\n",
       "      <td>NaN</td>\n",
       "      <td>1</td>\n",
       "      <td>0</td>\n",
       "      <td>Individual</td>\n",
       "      <td>Some college - no degree</td>\n",
       "      <td>1</td>\n",
       "      <td>1~3</td>\n",
       "      <td>Sales &amp; Related</td>\n",
       "      <td>0</td>\n",
       "      <td>1</td>\n",
       "      <td>3</td>\n",
       "      <td>89</td>\n",
       "      <td>1~3</td>\n",
       "      <td>7</td>\n",
       "      <td>Summer</td>\n",
       "      <td>Location C</td>\n",
       "      <td>0</td>\n",
       "      <td>No</td>\n",
       "    </tr>\n",
       "    <tr>\n",
       "      <th>4</th>\n",
       "      <td>2days</td>\n",
       "      <td>₹100000 or More</td>\n",
       "      <td>never</td>\n",
       "      <td>1</td>\n",
       "      <td>1~3</td>\n",
       "      <td>Single</td>\n",
       "      <td>4 star restaurant</td>\n",
       "      <td>21</td>\n",
       "      <td>0</td>\n",
       "      <td>1</td>\n",
       "      <td>1</td>\n",
       "      <td>less1</td>\n",
       "      <td>Female</td>\n",
       "      <td>NaN</td>\n",
       "      <td>0</td>\n",
       "      <td>0</td>\n",
       "      <td>Individual</td>\n",
       "      <td>Some college - no degree</td>\n",
       "      <td>1</td>\n",
       "      <td>gt8</td>\n",
       "      <td>Sales &amp; Related</td>\n",
       "      <td>1</td>\n",
       "      <td>0</td>\n",
       "      <td>3</td>\n",
       "      <td>40</td>\n",
       "      <td>less1</td>\n",
       "      <td>7</td>\n",
       "      <td>Summer</td>\n",
       "      <td>Location C</td>\n",
       "      <td>0</td>\n",
       "      <td>No</td>\n",
       "    </tr>\n",
       "  </tbody>\n",
       "</table>\n",
       "</div>"
      ],
      "text/plain": [
       "  offer expiration     income_range no_visited_Cold drinks  \\\n",
       "0            2days  ₹100000 or More                    4~8   \n",
       "1            2days  ₹87500 - ₹99999                    4~8   \n",
       "2            2days  ₹87500 - ₹99999                  less1   \n",
       "3          10hours  ₹37500 - ₹49999                  less1   \n",
       "4            2days  ₹100000 or More                  never   \n",
       "\n",
       "   travelled_more_than_15mins_for_offer Restaur_spend_less_than20  \\\n",
       "0                                     1                     less1   \n",
       "1                                     0                       4~8   \n",
       "2                                     1                       1~3   \n",
       "3                                     0                       1~3   \n",
       "4                                     1                       1~3   \n",
       "\n",
       "    Marital Status       restaurant type     age  Prefer western over chinese  \\\n",
       "0  Married partner     4 star restaurant      36                            0   \n",
       "1  Married partner  Take-away restaurant  50plus                            0   \n",
       "2           Single           Cold drinks      26                            1   \n",
       "3           Single  Take-away restaurant      46                            1   \n",
       "4           Single     4 star restaurant      21                            0   \n",
       "\n",
       "   travelled_more_than_25mins_for_offer  travelled_more_than_5mins_for_offer  \\\n",
       "0                                     0                                    1   \n",
       "1                                     0                                    1   \n",
       "2                                     0                                    1   \n",
       "3                                     0                                    1   \n",
       "4                                     1                                    1   \n",
       "\n",
       "  no_visited_bars  gender     car  restuarant_same_direction_house  \\\n",
       "0           less1  Female     NaN                                0   \n",
       "1           never  Female     NaN                                1   \n",
       "2           never  Female  Mazda5                                1   \n",
       "3           never    Male     NaN                                1   \n",
       "4           less1  Female     NaN                                0   \n",
       "\n",
       "   Cooks regularly Customer type             Qualification  is foodie  \\\n",
       "0                1    Individual          Bachelors degree          0   \n",
       "1                1    Individual          Bachelors degree          0   \n",
       "2                0    Individual          Bachelors degree          1   \n",
       "3                0    Individual  Some college - no degree          1   \n",
       "4                0    Individual  Some college - no degree          1   \n",
       "\n",
       "  no_Take-aways                          Job/Job Industry  \\\n",
       "0           1~3                                Unemployed   \n",
       "1           1~3                                Unemployed   \n",
       "2           1~3  Arts Design Entertainment Sports & Media   \n",
       "3           1~3                           Sales & Related   \n",
       "4           gt8                           Sales & Related   \n",
       "\n",
       "   restuarant_opposite_direction_house  has Children  \\\n",
       "0                                    0             0   \n",
       "1                                    0             1   \n",
       "2                                    1             1   \n",
       "3                                    0             1   \n",
       "4                                    1             0   \n",
       "\n",
       "   visit restaurant with rating (avg)  temperature  \\\n",
       "0                                   4           67   \n",
       "1                                   3           89   \n",
       "2                                   4           67   \n",
       "3                                   3           89   \n",
       "4                                   3           40   \n",
       "\n",
       "  Restaur_spend_greater_than20  Travel Time Climate drop location  \\\n",
       "0                        less1           22  Spring    Location B   \n",
       "1                          1~3           18  Summer    Location B   \n",
       "2                        less1            7  Winter    Location A   \n",
       "3                          1~3            7  Summer    Location C   \n",
       "4                        less1            7  Summer    Location C   \n",
       "\n",
       "   Prefer home food Offer Accepted  \n",
       "0                 0             No  \n",
       "1                 0            Yes  \n",
       "2                 1            Yes  \n",
       "3                 0             No  \n",
       "4                 0             No  "
      ]
     },
     "execution_count": 5,
     "metadata": {},
     "output_type": "execute_result"
    }
   ],
   "source": [
    "df.head()"
   ]
  },
  {
   "cell_type": "code",
   "execution_count": 6,
   "id": "60f29c17",
   "metadata": {
    "execution": {
     "iopub.execute_input": "2022-11-25T10:55:24.623415Z",
     "iopub.status.busy": "2022-11-25T10:55:24.623090Z",
     "iopub.status.idle": "2022-11-25T10:55:24.633367Z",
     "shell.execute_reply": "2022-11-25T10:55:24.631871Z"
    },
    "papermill": {
     "duration": 0.024616,
     "end_time": "2022-11-25T10:55:24.636203",
     "exception": false,
     "start_time": "2022-11-25T10:55:24.611587",
     "status": "completed"
    },
    "tags": []
   },
   "outputs": [],
   "source": [
    "# Seperating target label\n",
    "y=pd.DataFrame({'Offer Accepted': df.pop('Offer Accepted')})"
   ]
  },
  {
   "cell_type": "code",
   "execution_count": 7,
   "id": "f1c9d088",
   "metadata": {
    "execution": {
     "iopub.execute_input": "2022-11-25T10:55:24.658049Z",
     "iopub.status.busy": "2022-11-25T10:55:24.657749Z",
     "iopub.status.idle": "2022-11-25T10:55:24.675917Z",
     "shell.execute_reply": "2022-11-25T10:55:24.674556Z"
    },
    "papermill": {
     "duration": 0.031543,
     "end_time": "2022-11-25T10:55:24.678106",
     "exception": false,
     "start_time": "2022-11-25T10:55:24.646563",
     "status": "completed"
    },
    "tags": []
   },
   "outputs": [
    {
     "name": "stdout",
     "output_type": "stream",
     "text": [
      "<class 'pandas.core.frame.DataFrame'>\n",
      "RangeIndex: 12379 entries, 0 to 12378\n",
      "Data columns (total 1 columns):\n",
      " #   Column          Non-Null Count  Dtype \n",
      "---  ------          --------------  ----- \n",
      " 0   Offer Accepted  12379 non-null  object\n",
      "dtypes: object(1)\n",
      "memory usage: 96.8+ KB\n"
     ]
    }
   ],
   "source": [
    "y.info()"
   ]
  },
  {
   "cell_type": "code",
   "execution_count": 8,
   "id": "51cd46a3",
   "metadata": {
    "execution": {
     "iopub.execute_input": "2022-11-25T10:55:24.700135Z",
     "iopub.status.busy": "2022-11-25T10:55:24.699848Z",
     "iopub.status.idle": "2022-11-25T10:55:24.710384Z",
     "shell.execute_reply": "2022-11-25T10:55:24.709392Z"
    },
    "papermill": {
     "duration": 0.023527,
     "end_time": "2022-11-25T10:55:24.712059",
     "exception": false,
     "start_time": "2022-11-25T10:55:24.688532",
     "status": "completed"
    },
    "tags": []
   },
   "outputs": [
    {
     "data": {
      "text/plain": [
       "Offer Accepted\n",
       "Yes               6994\n",
       "No                5385\n",
       "dtype: int64"
      ]
     },
     "execution_count": 8,
     "metadata": {},
     "output_type": "execute_result"
    }
   ],
   "source": [
    "y.value_counts()"
   ]
  },
  {
   "attachments": {},
   "cell_type": "markdown",
   "id": "99cf323d",
   "metadata": {},
   "source": [
    "## Data Cleaning"
   ]
  },
  {
   "cell_type": "code",
   "execution_count": 9,
   "id": "2f0f8bcd",
   "metadata": {
    "execution": {
     "iopub.execute_input": "2022-11-25T10:55:24.733540Z",
     "iopub.status.busy": "2022-11-25T10:55:24.733194Z",
     "iopub.status.idle": "2022-11-25T10:55:24.755381Z",
     "shell.execute_reply": "2022-11-25T10:55:24.754180Z"
    },
    "papermill": {
     "duration": 0.035142,
     "end_time": "2022-11-25T10:55:24.757502",
     "exception": false,
     "start_time": "2022-11-25T10:55:24.722360",
     "status": "completed"
    },
    "tags": []
   },
   "outputs": [
    {
     "name": "stdout",
     "output_type": "stream",
     "text": [
      "<class 'pandas.core.frame.DataFrame'>\n",
      "RangeIndex: 12379 entries, 0 to 12378\n",
      "Data columns (total 30 columns):\n",
      " #   Column                                Non-Null Count  Dtype \n",
      "---  ------                                --------------  ----- \n",
      " 0   offer expiration                      12379 non-null  object\n",
      " 1   income_range                          12379 non-null  object\n",
      " 2   no_visited_Cold drinks                12181 non-null  object\n",
      " 3   travelled_more_than_15mins_for_offer  12379 non-null  int64 \n",
      " 4   Restaur_spend_less_than20             12258 non-null  object\n",
      " 5   Marital Status                        12379 non-null  object\n",
      " 6   restaurant type                       12379 non-null  object\n",
      " 7   age                                   12379 non-null  object\n",
      " 8   Prefer western over chinese           12379 non-null  int64 \n",
      " 9   travelled_more_than_25mins_for_offer  12379 non-null  int64 \n",
      " 10  travelled_more_than_5mins_for_offer   12379 non-null  int64 \n",
      " 11  no_visited_bars                       12286 non-null  object\n",
      " 12  gender                                12379 non-null  object\n",
      " 13  car                                   111 non-null    object\n",
      " 14  restuarant_same_direction_house       12379 non-null  int64 \n",
      " 15  Cooks regularly                       12379 non-null  int64 \n",
      " 16  Customer type                         12379 non-null  object\n",
      " 17  Qualification                         12379 non-null  object\n",
      " 18  is foodie                             12379 non-null  int64 \n",
      " 19  no_Take-aways                         12235 non-null  object\n",
      " 20  Job/Job Industry                      12379 non-null  object\n",
      " 21  restuarant_opposite_direction_house   12379 non-null  int64 \n",
      " 22  has Children                          12379 non-null  int64 \n",
      " 23  visit restaurant with rating (avg)    12379 non-null  int64 \n",
      " 24  temperature                           12379 non-null  int64 \n",
      " 25  Restaur_spend_greater_than20          12219 non-null  object\n",
      " 26  Travel Time                           12379 non-null  int64 \n",
      " 27  Climate                               12379 non-null  object\n",
      " 28  drop location                         12379 non-null  object\n",
      " 29  Prefer home food                      12379 non-null  int64 \n",
      "dtypes: int64(13), object(17)\n",
      "memory usage: 2.8+ MB\n"
     ]
    }
   ],
   "source": [
    "df.info()"
   ]
  },
  {
   "cell_type": "code",
   "execution_count": 10,
   "id": "66e0e87d",
   "metadata": {
    "execution": {
     "iopub.execute_input": "2022-11-25T10:55:24.778977Z",
     "iopub.status.busy": "2022-11-25T10:55:24.778710Z",
     "iopub.status.idle": "2022-11-25T10:55:24.802468Z",
     "shell.execute_reply": "2022-11-25T10:55:24.801533Z"
    },
    "papermill": {
     "duration": 0.036718,
     "end_time": "2022-11-25T10:55:24.804396",
     "exception": false,
     "start_time": "2022-11-25T10:55:24.767678",
     "status": "completed"
    },
    "tags": []
   },
   "outputs": [
    {
     "name": "stdout",
     "output_type": "stream",
     "text": [
      "<class 'pandas.core.frame.DataFrame'>\n",
      "RangeIndex: 12379 entries, 0 to 12378\n",
      "Data columns (total 17 columns):\n",
      " #   Column                        Non-Null Count  Dtype \n",
      "---  ------                        --------------  ----- \n",
      " 0   offer expiration              12379 non-null  object\n",
      " 1   income_range                  12379 non-null  object\n",
      " 2   no_visited_Cold drinks        12181 non-null  object\n",
      " 3   Restaur_spend_less_than20     12258 non-null  object\n",
      " 4   Marital Status                12379 non-null  object\n",
      " 5   restaurant type               12379 non-null  object\n",
      " 6   age                           12379 non-null  object\n",
      " 7   no_visited_bars               12286 non-null  object\n",
      " 8   gender                        12379 non-null  object\n",
      " 9   car                           111 non-null    object\n",
      " 10  Customer type                 12379 non-null  object\n",
      " 11  Qualification                 12379 non-null  object\n",
      " 12  no_Take-aways                 12235 non-null  object\n",
      " 13  Job/Job Industry              12379 non-null  object\n",
      " 14  Restaur_spend_greater_than20  12219 non-null  object\n",
      " 15  Climate                       12379 non-null  object\n",
      " 16  drop location                 12379 non-null  object\n",
      "dtypes: object(17)\n",
      "memory usage: 1.6+ MB\n"
     ]
    }
   ],
   "source": [
    "df.select_dtypes(include=['object']).info()"
   ]
  },
  {
   "cell_type": "code",
   "execution_count": 11,
   "id": "6d4add39",
   "metadata": {
    "execution": {
     "iopub.execute_input": "2022-11-25T10:55:24.826607Z",
     "iopub.status.busy": "2022-11-25T10:55:24.826287Z",
     "iopub.status.idle": "2022-11-25T10:55:24.846500Z",
     "shell.execute_reply": "2022-11-25T10:55:24.845125Z"
    },
    "papermill": {
     "duration": 0.033954,
     "end_time": "2022-11-25T10:55:24.848867",
     "exception": false,
     "start_time": "2022-11-25T10:55:24.814913",
     "status": "completed"
    },
    "tags": []
   },
   "outputs": [],
   "source": [
    "# Replace oe,age and covert to numeric in training data\n",
    "df['offer expiration'].replace('2days',48,inplace=True)\n",
    "df['offer expiration'].replace('10hours',10,inplace=True)\n",
    "df['offer expiration'] = pd.to_numeric(df['offer expiration'])\n",
    "\n",
    "df['age'].replace('50plus',60,inplace=True)\n",
    "df['age'].replace('below21',15,inplace=True)\n",
    "df['age'] = pd.to_numeric(df['age'])\n"
   ]
  },
  {
   "cell_type": "code",
   "execution_count": 12,
   "id": "63048ddd",
   "metadata": {
    "execution": {
     "iopub.execute_input": "2022-11-25T10:55:24.871175Z",
     "iopub.status.busy": "2022-11-25T10:55:24.870873Z",
     "iopub.status.idle": "2022-11-25T10:55:24.884979Z",
     "shell.execute_reply": "2022-11-25T10:55:24.884135Z"
    },
    "papermill": {
     "duration": 0.027122,
     "end_time": "2022-11-25T10:55:24.886531",
     "exception": false,
     "start_time": "2022-11-25T10:55:24.859409",
     "status": "completed"
    },
    "tags": []
   },
   "outputs": [],
   "source": [
    "# Replace oe,age and covert to numeric in testing data\n",
    "test['offer expiration'].replace('2days',48,inplace=True)\n",
    "test['offer expiration'].replace('10hours',10,inplace=True)\n",
    "test['offer expiration'] = pd.to_numeric(test['offer expiration'])\n",
    "\n",
    "test['age'].replace('50plus',60,inplace=True)\n",
    "test['age'].replace('below21',15,inplace=True)\n",
    "test['age'] = pd.to_numeric(test['age'])\n"
   ]
  },
  {
   "cell_type": "code",
   "execution_count": 13,
   "id": "0ed6196f",
   "metadata": {
    "execution": {
     "iopub.execute_input": "2022-11-25T10:55:24.908459Z",
     "iopub.status.busy": "2022-11-25T10:55:24.907961Z",
     "iopub.status.idle": "2022-11-25T10:55:24.922654Z",
     "shell.execute_reply": "2022-11-25T10:55:24.921399Z"
    },
    "papermill": {
     "duration": 0.028217,
     "end_time": "2022-11-25T10:55:24.924921",
     "exception": false,
     "start_time": "2022-11-25T10:55:24.896704",
     "status": "completed"
    },
    "tags": []
   },
   "outputs": [
    {
     "name": "stdout",
     "output_type": "stream",
     "text": [
      "<class 'pandas.core.frame.DataFrame'>\n",
      "RangeIndex: 5305 entries, 0 to 5304\n",
      "Data columns (total 30 columns):\n",
      " #   Column                                Non-Null Count  Dtype \n",
      "---  ------                                --------------  ----- \n",
      " 0   offer expiration                      5305 non-null   int64 \n",
      " 1   income_range                          5305 non-null   object\n",
      " 2   no_visited_Cold drinks                5215 non-null   object\n",
      " 3   travelled_more_than_15mins_for_offer  5305 non-null   int64 \n",
      " 4   Restaur_spend_less_than20             5244 non-null   object\n",
      " 5   Marital Status                        5305 non-null   object\n",
      " 6   restaurant type                       5305 non-null   object\n",
      " 7   age                                   5305 non-null   int64 \n",
      " 8   Prefer western over chinese           5305 non-null   int64 \n",
      " 9   travelled_more_than_25mins_for_offer  5305 non-null   int64 \n",
      " 10  travelled_more_than_5mins_for_offer   5305 non-null   int64 \n",
      " 11  no_visited_bars                       5255 non-null   object\n",
      " 12  gender                                5305 non-null   object\n",
      " 13  car                                   43 non-null     object\n",
      " 14  restuarant_same_direction_house       5305 non-null   int64 \n",
      " 15  Cooks regularly                       5305 non-null   int64 \n",
      " 16  Customer type                         5305 non-null   object\n",
      " 17  Qualification                         5305 non-null   object\n",
      " 18  is foodie                             5305 non-null   int64 \n",
      " 19  no_Take-aways                         5245 non-null   object\n",
      " 20  Job/Job Industry                      5305 non-null   object\n",
      " 21  restuarant_opposite_direction_house   5305 non-null   int64 \n",
      " 22  has Children                          5305 non-null   int64 \n",
      " 23  visit restaurant with rating (avg)    5305 non-null   int64 \n",
      " 24  temperature                           5305 non-null   int64 \n",
      " 25  Restaur_spend_greater_than20          5201 non-null   object\n",
      " 26  Travel Time                           5305 non-null   int64 \n",
      " 27  Climate                               5305 non-null   object\n",
      " 28  drop location                         5305 non-null   object\n",
      " 29  Prefer home food                      5305 non-null   int64 \n",
      "dtypes: int64(15), object(15)\n",
      "memory usage: 1.2+ MB\n"
     ]
    }
   ],
   "source": [
    "test.info()"
   ]
  },
  {
   "cell_type": "code",
   "execution_count": 14,
   "id": "933395b7",
   "metadata": {
    "execution": {
     "iopub.execute_input": "2022-11-25T10:55:24.947679Z",
     "iopub.status.busy": "2022-11-25T10:55:24.947378Z",
     "iopub.status.idle": "2022-11-25T10:55:24.962002Z",
     "shell.execute_reply": "2022-11-25T10:55:24.961332Z"
    },
    "papermill": {
     "duration": 0.028095,
     "end_time": "2022-11-25T10:55:24.963612",
     "exception": false,
     "start_time": "2022-11-25T10:55:24.935517",
     "status": "completed"
    },
    "tags": []
   },
   "outputs": [
    {
     "data": {
      "text/plain": [
       "offer expiration                            0\n",
       "income_range                                0\n",
       "no_visited_Cold drinks                    198\n",
       "travelled_more_than_15mins_for_offer        0\n",
       "Restaur_spend_less_than20                 121\n",
       "Marital Status                              0\n",
       "restaurant type                             0\n",
       "age                                         0\n",
       "Prefer western over chinese                 0\n",
       "travelled_more_than_25mins_for_offer        0\n",
       "travelled_more_than_5mins_for_offer         0\n",
       "no_visited_bars                            93\n",
       "gender                                      0\n",
       "car                                     12268\n",
       "restuarant_same_direction_house             0\n",
       "Cooks regularly                             0\n",
       "Customer type                               0\n",
       "Qualification                               0\n",
       "is foodie                                   0\n",
       "no_Take-aways                             144\n",
       "Job/Job Industry                            0\n",
       "restuarant_opposite_direction_house         0\n",
       "has Children                                0\n",
       "visit restaurant with rating (avg)          0\n",
       "temperature                                 0\n",
       "Restaur_spend_greater_than20              160\n",
       "Travel Time                                 0\n",
       "Climate                                     0\n",
       "drop location                               0\n",
       "Prefer home food                            0\n",
       "dtype: int64"
      ]
     },
     "execution_count": 14,
     "metadata": {},
     "output_type": "execute_result"
    }
   ],
   "source": [
    "# Check for NA values\n",
    "df.isna().sum()"
   ]
  },
  {
   "cell_type": "code",
   "execution_count": 15,
   "id": "f16a599a",
   "metadata": {
    "execution": {
     "iopub.execute_input": "2022-11-25T10:55:24.986532Z",
     "iopub.status.busy": "2022-11-25T10:55:24.986208Z",
     "iopub.status.idle": "2022-11-25T10:55:24.994418Z",
     "shell.execute_reply": "2022-11-25T10:55:24.993227Z"
    },
    "papermill": {
     "duration": 0.021974,
     "end_time": "2022-11-25T10:55:24.996802",
     "exception": false,
     "start_time": "2022-11-25T10:55:24.974828",
     "status": "completed"
    },
    "tags": []
   },
   "outputs": [
    {
     "data": {
      "text/plain": [
       "0       NaN\n",
       "1       NaN\n",
       "2       NaN\n",
       "3       NaN\n",
       "4       NaN\n",
       "       ... \n",
       "5300    NaN\n",
       "5301    NaN\n",
       "5302    NaN\n",
       "5303    NaN\n",
       "5304    NaN\n",
       "Name: car, Length: 5305, dtype: object"
      ]
     },
     "execution_count": 15,
     "metadata": {},
     "output_type": "execute_result"
    }
   ],
   "source": [
    "# Removing car as most are missing \n",
    "df.pop('car')\n",
    "test.pop('car')"
   ]
  },
  {
   "attachments": {},
   "cell_type": "markdown",
   "id": "1a547266",
   "metadata": {
    "papermill": {
     "duration": 0.01041,
     "end_time": "2022-11-25T10:55:25.018104",
     "exception": false,
     "start_time": "2022-11-25T10:55:25.007694",
     "status": "completed"
    },
    "tags": []
   },
   "source": [
    "### Col with NA values"
   ]
  },
  {
   "cell_type": "code",
   "execution_count": 16,
   "id": "2c45866d",
   "metadata": {
    "execution": {
     "iopub.execute_input": "2022-11-25T10:55:25.042068Z",
     "iopub.status.busy": "2022-11-25T10:55:25.041199Z",
     "iopub.status.idle": "2022-11-25T10:55:25.048008Z",
     "shell.execute_reply": "2022-11-25T10:55:25.047439Z"
    },
    "papermill": {
     "duration": 0.020531,
     "end_time": "2022-11-25T10:55:25.049509",
     "exception": false,
     "start_time": "2022-11-25T10:55:25.028978",
     "status": "completed"
    },
    "tags": []
   },
   "outputs": [
    {
     "data": {
      "text/plain": [
       "array(['4~8', 'less1', 'never', '1~3', 'gt8', nan], dtype=object)"
      ]
     },
     "execution_count": 16,
     "metadata": {},
     "output_type": "execute_result"
    }
   ],
   "source": [
    "df['no_visited_Cold drinks'].unique()"
   ]
  },
  {
   "cell_type": "code",
   "execution_count": 17,
   "id": "fc9013e0",
   "metadata": {
    "execution": {
     "iopub.execute_input": "2022-11-25T10:55:25.073856Z",
     "iopub.status.busy": "2022-11-25T10:55:25.073548Z",
     "iopub.status.idle": "2022-11-25T10:55:25.080997Z",
     "shell.execute_reply": "2022-11-25T10:55:25.080072Z"
    },
    "papermill": {
     "duration": 0.021828,
     "end_time": "2022-11-25T10:55:25.082893",
     "exception": false,
     "start_time": "2022-11-25T10:55:25.061065",
     "status": "completed"
    },
    "tags": []
   },
   "outputs": [
    {
     "data": {
      "text/plain": [
       "array(['less1', '4~8', '1~3', 'gt8', 'never', nan], dtype=object)"
      ]
     },
     "execution_count": 17,
     "metadata": {},
     "output_type": "execute_result"
    }
   ],
   "source": [
    "df['Restaur_spend_less_than20'].unique()"
   ]
  },
  {
   "cell_type": "code",
   "execution_count": 18,
   "id": "c59f7b3f",
   "metadata": {
    "execution": {
     "iopub.execute_input": "2022-11-25T10:55:25.106632Z",
     "iopub.status.busy": "2022-11-25T10:55:25.106121Z",
     "iopub.status.idle": "2022-11-25T10:55:25.111978Z",
     "shell.execute_reply": "2022-11-25T10:55:25.111363Z"
    },
    "papermill": {
     "duration": 0.019541,
     "end_time": "2022-11-25T10:55:25.113539",
     "exception": false,
     "start_time": "2022-11-25T10:55:25.093998",
     "status": "completed"
    },
    "tags": []
   },
   "outputs": [
    {
     "data": {
      "text/plain": [
       "array(['less1', 'never', '1~3', nan, '4~8', 'gt8'], dtype=object)"
      ]
     },
     "execution_count": 18,
     "metadata": {},
     "output_type": "execute_result"
    }
   ],
   "source": [
    "df['no_visited_bars'].unique()"
   ]
  },
  {
   "cell_type": "code",
   "execution_count": 19,
   "id": "3ea76be5",
   "metadata": {
    "execution": {
     "iopub.execute_input": "2022-11-25T10:55:25.136621Z",
     "iopub.status.busy": "2022-11-25T10:55:25.136232Z",
     "iopub.status.idle": "2022-11-25T10:55:25.141982Z",
     "shell.execute_reply": "2022-11-25T10:55:25.141161Z"
    },
    "papermill": {
     "duration": 0.019681,
     "end_time": "2022-11-25T10:55:25.144159",
     "exception": false,
     "start_time": "2022-11-25T10:55:25.124478",
     "status": "completed"
    },
    "tags": []
   },
   "outputs": [
    {
     "data": {
      "text/plain": [
       "array(['1~3', 'gt8', '4~8', 'less1', nan, 'never'], dtype=object)"
      ]
     },
     "execution_count": 19,
     "metadata": {},
     "output_type": "execute_result"
    }
   ],
   "source": [
    "df['no_Take-aways'].unique()\n",
    "                             "
   ]
  },
  {
   "cell_type": "code",
   "execution_count": 20,
   "id": "dcaf4e59",
   "metadata": {
    "execution": {
     "iopub.execute_input": "2022-11-25T10:55:25.167245Z",
     "iopub.status.busy": "2022-11-25T10:55:25.166513Z",
     "iopub.status.idle": "2022-11-25T10:55:25.173567Z",
     "shell.execute_reply": "2022-11-25T10:55:25.172337Z"
    },
    "papermill": {
     "duration": 0.021002,
     "end_time": "2022-11-25T10:55:25.176035",
     "exception": false,
     "start_time": "2022-11-25T10:55:25.155033",
     "status": "completed"
    },
    "tags": []
   },
   "outputs": [
    {
     "data": {
      "text/plain": [
       "array(['less1', '1~3', 'never', 'gt8', nan, '4~8'], dtype=object)"
      ]
     },
     "execution_count": 20,
     "metadata": {},
     "output_type": "execute_result"
    }
   ],
   "source": [
    "df['Restaur_spend_greater_than20'].unique()"
   ]
  },
  {
   "attachments": {},
   "cell_type": "markdown",
   "id": "8c3059b1",
   "metadata": {
    "papermill": {
     "duration": 0.010929,
     "end_time": "2022-11-25T10:55:25.198100",
     "exception": false,
     "start_time": "2022-11-25T10:55:25.187171",
     "status": "completed"
    },
    "tags": []
   },
   "source": [
    "# Pre-Processing"
   ]
  },
  {
   "cell_type": "code",
   "execution_count": 21,
   "id": "dde15ab6",
   "metadata": {
    "execution": {
     "iopub.execute_input": "2022-11-25T10:55:25.223125Z",
     "iopub.status.busy": "2022-11-25T10:55:25.222802Z",
     "iopub.status.idle": "2022-11-25T10:55:26.421378Z",
     "shell.execute_reply": "2022-11-25T10:55:26.420237Z"
    },
    "papermill": {
     "duration": 1.213463,
     "end_time": "2022-11-25T10:55:26.423711",
     "exception": false,
     "start_time": "2022-11-25T10:55:25.210248",
     "status": "completed"
    },
    "tags": []
   },
   "outputs": [],
   "source": [
    "from sklearn.pipeline import Pipeline\n",
    "from sklearn.impute import SimpleImputer\n",
    "from sklearn.preprocessing import StandardScaler\n",
    "from sklearn.preprocessing import OrdinalEncoder\n",
    "from sklearn.compose import ColumnTransformer\n",
    "from sklearn.preprocessing import OneHotEncoder\n",
    "from sklearn.ensemble import RandomForestClassifier"
   ]
  },
  {
   "cell_type": "code",
   "execution_count": 22,
   "id": "16d94719",
   "metadata": {
    "execution": {
     "iopub.execute_input": "2022-11-25T10:55:26.448146Z",
     "iopub.status.busy": "2022-11-25T10:55:26.447841Z",
     "iopub.status.idle": "2022-11-25T10:55:26.453144Z",
     "shell.execute_reply": "2022-11-25T10:55:26.451751Z"
    },
    "papermill": {
     "duration": 0.020012,
     "end_time": "2022-11-25T10:55:26.455229",
     "exception": false,
     "start_time": "2022-11-25T10:55:26.435217",
     "status": "completed"
    },
    "tags": []
   },
   "outputs": [],
   "source": [
    "# order for income col\n",
    "income_order=['Less than ₹12500', '₹12500 - ₹24999', '₹25000 - ₹37499', '₹37500 - ₹49999', '₹50000 - ₹62499', '₹62500 - ₹74999', '₹75000 - ₹87499', '₹87500 - ₹99999', '₹100000 or More']"
   ]
  },
  {
   "cell_type": "code",
   "execution_count": 23,
   "id": "d436ae9c",
   "metadata": {
    "execution": {
     "iopub.execute_input": "2022-11-25T10:55:26.479174Z",
     "iopub.status.busy": "2022-11-25T10:55:26.478485Z",
     "iopub.status.idle": "2022-11-25T10:55:26.481962Z",
     "shell.execute_reply": "2022-11-25T10:55:26.481416Z"
    },
    "papermill": {
     "duration": 0.017035,
     "end_time": "2022-11-25T10:55:26.483507",
     "exception": false,
     "start_time": "2022-11-25T10:55:26.466472",
     "status": "completed"
    },
    "tags": []
   },
   "outputs": [],
   "source": [
    "# Order for Qualification col\n",
    "qual_order=['Some college - no degree','Some High School','High School Graduate','Associates degree','Bachelors degree',\n",
    "       'Graduate degree (Masters or Doctorate)' ]"
   ]
  },
  {
   "cell_type": "code",
   "execution_count": 24,
   "id": "8176f509",
   "metadata": {
    "execution": {
     "iopub.execute_input": "2022-11-25T10:55:26.507932Z",
     "iopub.status.busy": "2022-11-25T10:55:26.507493Z",
     "iopub.status.idle": "2022-11-25T10:55:26.512282Z",
     "shell.execute_reply": "2022-11-25T10:55:26.511376Z"
    },
    "papermill": {
     "duration": 0.019458,
     "end_time": "2022-11-25T10:55:26.514002",
     "exception": false,
     "start_time": "2022-11-25T10:55:26.494544",
     "status": "completed"
    },
    "tags": []
   },
   "outputs": [],
   "source": [
    "# order for other oridnal cols\n",
    "no_order= ['never','less1', '1~3', '4~8','gt8']\n"
   ]
  },
  {
   "cell_type": "code",
   "execution_count": 25,
   "id": "f23ccc65",
   "metadata": {
    "execution": {
     "iopub.execute_input": "2022-11-25T10:55:26.537956Z",
     "iopub.status.busy": "2022-11-25T10:55:26.537495Z",
     "iopub.status.idle": "2022-11-25T10:55:26.542890Z",
     "shell.execute_reply": "2022-11-25T10:55:26.542291Z"
    },
    "papermill": {
     "duration": 0.019491,
     "end_time": "2022-11-25T10:55:26.544739",
     "exception": false,
     "start_time": "2022-11-25T10:55:26.525248",
     "status": "completed"
    },
    "tags": []
   },
   "outputs": [],
   "source": [
    "# Categorical Encoder\n",
    "\n",
    "cat_encoder=ColumnTransformer([('income',OrdinalEncoder(categories=[income_order]),[1]),\n",
    "                          ('qual',OrdinalEncoder(categories=[qual_order]),[16]),\n",
    "                          ('no_ord',OrdinalEncoder(categories=[no_order,no_order,no_order,no_order,no_order]),[2,4,11,18,24]),\n",
    "                         ('nominal',OneHotEncoder(sparse = False),[5,6,12,15,19,26,27])\n",
    "                         ],remainder='passthrough')"
   ]
  },
  {
   "cell_type": "code",
   "execution_count": 26,
   "id": "91b7e60a",
   "metadata": {
    "execution": {
     "iopub.execute_input": "2022-11-25T10:55:26.568949Z",
     "iopub.status.busy": "2022-11-25T10:55:26.567809Z",
     "iopub.status.idle": "2022-11-25T10:55:26.573090Z",
     "shell.execute_reply": "2022-11-25T10:55:26.572081Z"
    },
    "papermill": {
     "duration": 0.019438,
     "end_time": "2022-11-25T10:55:26.575287",
     "exception": false,
     "start_time": "2022-11-25T10:55:26.555849",
     "status": "completed"
    },
    "tags": []
   },
   "outputs": [],
   "source": [
    "# Pre-processing pipeline\n",
    "\n",
    "pipe=Pipeline([('imputer',SimpleImputer(strategy='most_frequent')),\n",
    "                ('encode',cat_encoder),\n",
    "               ])\n"
   ]
  },
  {
   "cell_type": "code",
   "execution_count": 27,
   "id": "630ad4f3",
   "metadata": {
    "execution": {
     "iopub.execute_input": "2022-11-25T10:55:26.598414Z",
     "iopub.status.busy": "2022-11-25T10:55:26.598088Z",
     "iopub.status.idle": "2022-11-25T10:55:26.730788Z",
     "shell.execute_reply": "2022-11-25T10:55:26.729593Z"
    },
    "papermill": {
     "duration": 0.14679,
     "end_time": "2022-11-25T10:55:26.733199",
     "exception": false,
     "start_time": "2022-11-25T10:55:26.586409",
     "status": "completed"
    },
    "tags": []
   },
   "outputs": [],
   "source": [
    "x=pipe.fit_transform(df)\n",
    "y=y.to_numpy().ravel()"
   ]
  },
  {
   "cell_type": "code",
   "execution_count": 28,
   "id": "2b60b42f",
   "metadata": {
    "execution": {
     "iopub.execute_input": "2022-11-25T10:55:26.757083Z",
     "iopub.status.busy": "2022-11-25T10:55:26.756778Z",
     "iopub.status.idle": "2022-11-25T10:55:26.816693Z",
     "shell.execute_reply": "2022-11-25T10:55:26.815980Z"
    },
    "papermill": {
     "duration": 0.074608,
     "end_time": "2022-11-25T10:55:26.819119",
     "exception": false,
     "start_time": "2022-11-25T10:55:26.744511",
     "status": "completed"
    },
    "tags": []
   },
   "outputs": [],
   "source": [
    "test_clean=pipe.fit_transform(test)"
   ]
  },
  {
   "attachments": {},
   "cell_type": "markdown",
   "id": "21243972",
   "metadata": {
    "papermill": {
     "duration": 0.010275,
     "end_time": "2022-11-25T10:55:26.841143",
     "exception": false,
     "start_time": "2022-11-25T10:55:26.830868",
     "status": "completed"
    },
    "tags": []
   },
   "source": [
    "# Finding best model"
   ]
  },
  {
   "cell_type": "code",
   "execution_count": 29,
   "id": "6ff26330",
   "metadata": {
    "execution": {
     "iopub.execute_input": "2022-11-25T10:55:26.863572Z",
     "iopub.status.busy": "2022-11-25T10:55:26.863282Z",
     "iopub.status.idle": "2022-11-25T10:55:26.866803Z",
     "shell.execute_reply": "2022-11-25T10:55:26.865999Z"
    },
    "papermill": {
     "duration": 0.016978,
     "end_time": "2022-11-25T10:55:26.868684",
     "exception": false,
     "start_time": "2022-11-25T10:55:26.851706",
     "status": "completed"
    },
    "tags": []
   },
   "outputs": [],
   "source": [
    "# from sklearn.neural_network import MLPClassifier\n",
    "# from sklearn.neighbors import KNeighborsClassifier\n",
    "# from sklearn.svm import SVC\n",
    "# from sklearn.ensemble import GradientBoostingClassifier\n",
    "# from sklearn.tree import DecisionTreeClassifier\n",
    "# from sklearn.ensemble import ExtraTreesClassifier\n",
    "# from sklearn.ensemble import RandomForestClassifier, AdaBoostClassifier\n",
    "# from sklearn.naive_bayes import GaussianNB\n",
    "# from sklearn.discriminant_analysis import QuadraticDiscriminantAnalysis\n",
    "# from sklearn.linear_model import SGDClassifier\n",
    "# from xgboost import XGBClassifier\n",
    "\n",
    "# from sklearn.metrics import f1_score\n",
    "\n",
    "# from sklearn.model_selection import train_test_split"
   ]
  },
  {
   "cell_type": "code",
   "execution_count": 30,
   "id": "93862fe8",
   "metadata": {
    "execution": {
     "iopub.execute_input": "2022-11-25T10:55:26.893232Z",
     "iopub.status.busy": "2022-11-25T10:55:26.892940Z",
     "iopub.status.idle": "2022-11-25T10:55:26.896298Z",
     "shell.execute_reply": "2022-11-25T10:55:26.895467Z"
    },
    "papermill": {
     "duration": 0.018452,
     "end_time": "2022-11-25T10:55:26.897991",
     "exception": false,
     "start_time": "2022-11-25T10:55:26.879539",
     "status": "completed"
    },
    "tags": []
   },
   "outputs": [],
   "source": [
    "# X_train, X_test, y_train, y_test = train_test_split (x, y, test_size=0.20, random_state=1,stratify=y)"
   ]
  },
  {
   "cell_type": "code",
   "execution_count": 31,
   "id": "630bac85",
   "metadata": {
    "execution": {
     "iopub.execute_input": "2022-11-25T10:55:26.923080Z",
     "iopub.status.busy": "2022-11-25T10:55:26.922627Z",
     "iopub.status.idle": "2022-11-25T10:55:26.926668Z",
     "shell.execute_reply": "2022-11-25T10:55:26.925706Z"
    },
    "papermill": {
     "duration": 0.01935,
     "end_time": "2022-11-25T10:55:26.929160",
     "exception": false,
     "start_time": "2022-11-25T10:55:26.909810",
     "status": "completed"
    },
    "tags": []
   },
   "outputs": [],
   "source": [
    "# classifiers = [\n",
    "#     KNeighborsClassifier(15),\n",
    "#     SVC(),\n",
    "#     DecisionTreeClassifier(),\n",
    "#     ExtraTreesClassifier(),\n",
    "#     RandomForestClassifier(),\n",
    "#     AdaBoostClassifier(),\n",
    "#     GaussianNB(),\n",
    "#     SGDClassifier(),\n",
    "# ]"
   ]
  },
  {
   "cell_type": "code",
   "execution_count": 32,
   "id": "038048b7",
   "metadata": {
    "execution": {
     "iopub.execute_input": "2022-11-25T10:55:26.953136Z",
     "iopub.status.busy": "2022-11-25T10:55:26.952839Z",
     "iopub.status.idle": "2022-11-25T10:55:26.957073Z",
     "shell.execute_reply": "2022-11-25T10:55:26.955794Z"
    },
    "papermill": {
     "duration": 0.019057,
     "end_time": "2022-11-25T10:55:26.960009",
     "exception": false,
     "start_time": "2022-11-25T10:55:26.940952",
     "status": "completed"
    },
    "tags": []
   },
   "outputs": [],
   "source": [
    "# for clf in classifiers:\n",
    "#     clf.fit(X_train, y_train)\n",
    "#     pred=clf.predict(X_test)\n",
    "#     print(clf, f1_score(y_test, pred,average='weighted'))"
   ]
  },
  {
   "attachments": {},
   "cell_type": "markdown",
   "id": "606f1bf6",
   "metadata": {
    "papermill": {
     "duration": 0.010573,
     "end_time": "2022-11-25T10:55:26.981759",
     "exception": false,
     "start_time": "2022-11-25T10:55:26.971186",
     "status": "completed"
    },
    "tags": []
   },
   "source": [
    "# Hyper-parameter Tuning"
   ]
  },
  {
   "attachments": {},
   "cell_type": "markdown",
   "id": "7edab85a",
   "metadata": {
    "papermill": {
     "duration": 0.010345,
     "end_time": "2022-11-25T10:55:27.002760",
     "exception": false,
     "start_time": "2022-11-25T10:55:26.992415",
     "status": "completed"
    },
    "tags": []
   },
   "source": [
    "### Random CV"
   ]
  },
  {
   "cell_type": "code",
   "execution_count": 33,
   "id": "a2cd8be6",
   "metadata": {
    "execution": {
     "iopub.execute_input": "2022-11-25T10:55:27.025120Z",
     "iopub.status.busy": "2022-11-25T10:55:27.024811Z",
     "iopub.status.idle": "2022-11-25T10:55:27.029837Z",
     "shell.execute_reply": "2022-11-25T10:55:27.028363Z"
    },
    "papermill": {
     "duration": 0.018108,
     "end_time": "2022-11-25T10:55:27.031452",
     "exception": false,
     "start_time": "2022-11-25T10:55:27.013344",
     "status": "completed"
    },
    "tags": []
   },
   "outputs": [],
   "source": [
    "# from sklearn.model_selection import RandomizedSearchCV"
   ]
  },
  {
   "cell_type": "code",
   "execution_count": 34,
   "id": "923a081b",
   "metadata": {
    "execution": {
     "iopub.execute_input": "2022-11-25T10:55:27.056063Z",
     "iopub.status.busy": "2022-11-25T10:55:27.055759Z",
     "iopub.status.idle": "2022-11-25T10:55:27.060440Z",
     "shell.execute_reply": "2022-11-25T10:55:27.059248Z"
    },
    "papermill": {
     "duration": 0.019398,
     "end_time": "2022-11-25T10:55:27.062087",
     "exception": false,
     "start_time": "2022-11-25T10:55:27.042689",
     "status": "completed"
    },
    "tags": []
   },
   "outputs": [],
   "source": [
    "# param_grid = { \n",
    "#     'n_estimators': [int(x) for x in range(100,200,10)],\n",
    "#     'max_depth' : [int(x) for x in range(15,30,10)],\n",
    "    \n",
    "# }\n",
    "\n",
    "# rfc=RandomForestClassifier(random_state=5)"
   ]
  },
  {
   "cell_type": "code",
   "execution_count": 35,
   "id": "297226cd",
   "metadata": {
    "execution": {
     "iopub.execute_input": "2022-11-25T10:55:27.086669Z",
     "iopub.status.busy": "2022-11-25T10:55:27.086353Z",
     "iopub.status.idle": "2022-11-25T10:55:27.090611Z",
     "shell.execute_reply": "2022-11-25T10:55:27.089574Z"
    },
    "papermill": {
     "duration": 0.019303,
     "end_time": "2022-11-25T10:55:27.093481",
     "exception": false,
     "start_time": "2022-11-25T10:55:27.074178",
     "status": "completed"
    },
    "tags": []
   },
   "outputs": [],
   "source": [
    "# CV_rfc = RandomizedSearchCV(estimator=rfc,param_distributions=param_grid, cv=5,n_jobs=-1,scoring='f1_weighted',random_state=1)\n",
    "# CV_rfc.fit(X_train, y_train)"
   ]
  },
  {
   "cell_type": "code",
   "execution_count": 36,
   "id": "d9fa0996",
   "metadata": {
    "execution": {
     "iopub.execute_input": "2022-11-25T10:55:27.117618Z",
     "iopub.status.busy": "2022-11-25T10:55:27.117289Z",
     "iopub.status.idle": "2022-11-25T10:55:27.121998Z",
     "shell.execute_reply": "2022-11-25T10:55:27.120741Z"
    },
    "papermill": {
     "duration": 0.019315,
     "end_time": "2022-11-25T10:55:27.124101",
     "exception": false,
     "start_time": "2022-11-25T10:55:27.104786",
     "status": "completed"
    },
    "tags": []
   },
   "outputs": [],
   "source": [
    "# CV_rfc.best_estimator_"
   ]
  },
  {
   "cell_type": "code",
   "execution_count": 37,
   "id": "204ee7a6",
   "metadata": {
    "execution": {
     "iopub.execute_input": "2022-11-25T10:55:27.148197Z",
     "iopub.status.busy": "2022-11-25T10:55:27.147422Z",
     "iopub.status.idle": "2022-11-25T10:55:27.151723Z",
     "shell.execute_reply": "2022-11-25T10:55:27.150480Z"
    },
    "papermill": {
     "duration": 0.018923,
     "end_time": "2022-11-25T10:55:27.154126",
     "exception": false,
     "start_time": "2022-11-25T10:55:27.135203",
     "status": "completed"
    },
    "tags": []
   },
   "outputs": [],
   "source": [
    "# CV_rfc.best_params_"
   ]
  },
  {
   "cell_type": "code",
   "execution_count": 38,
   "id": "5b94c92e",
   "metadata": {
    "execution": {
     "iopub.execute_input": "2022-11-25T10:55:27.178257Z",
     "iopub.status.busy": "2022-11-25T10:55:27.177906Z",
     "iopub.status.idle": "2022-11-25T10:55:27.182297Z",
     "shell.execute_reply": "2022-11-25T10:55:27.181495Z"
    },
    "papermill": {
     "duration": 0.018745,
     "end_time": "2022-11-25T10:55:27.184155",
     "exception": false,
     "start_time": "2022-11-25T10:55:27.165410",
     "status": "completed"
    },
    "tags": []
   },
   "outputs": [],
   "source": [
    "# CV_rfc.best_score_"
   ]
  },
  {
   "attachments": {},
   "cell_type": "markdown",
   "id": "f609e5e1",
   "metadata": {
    "papermill": {
     "duration": 0.010466,
     "end_time": "2022-11-25T10:55:27.205667",
     "exception": false,
     "start_time": "2022-11-25T10:55:27.195201",
     "status": "completed"
    },
    "tags": []
   },
   "source": [
    "### Grid CV"
   ]
  },
  {
   "cell_type": "code",
   "execution_count": 39,
   "id": "0516c216",
   "metadata": {
    "execution": {
     "iopub.execute_input": "2022-11-25T10:55:27.229320Z",
     "iopub.status.busy": "2022-11-25T10:55:27.229036Z",
     "iopub.status.idle": "2022-11-25T10:55:27.233002Z",
     "shell.execute_reply": "2022-11-25T10:55:27.231958Z"
    },
    "papermill": {
     "duration": 0.017957,
     "end_time": "2022-11-25T10:55:27.234795",
     "exception": false,
     "start_time": "2022-11-25T10:55:27.216838",
     "status": "completed"
    },
    "tags": []
   },
   "outputs": [],
   "source": [
    "# from sklearn.model_selection import GridSearchCV"
   ]
  },
  {
   "cell_type": "code",
   "execution_count": 40,
   "id": "9dfffadd",
   "metadata": {
    "execution": {
     "iopub.execute_input": "2022-11-25T10:55:27.258850Z",
     "iopub.status.busy": "2022-11-25T10:55:27.258112Z",
     "iopub.status.idle": "2022-11-25T10:55:27.261918Z",
     "shell.execute_reply": "2022-11-25T10:55:27.260984Z"
    },
    "papermill": {
     "duration": 0.018073,
     "end_time": "2022-11-25T10:55:27.264032",
     "exception": false,
     "start_time": "2022-11-25T10:55:27.245959",
     "status": "completed"
    },
    "tags": []
   },
   "outputs": [],
   "source": [
    "# param_grid = { \n",
    "#     'n_estimators': [int(x) for x in range(100,110)],\n",
    "    \n",
    "#     'max_depth' : [int(x) for x in range(20,31)],\n",
    "#     'random_state':[int(x) for x in range(0,10)]\n",
    "    \n",
    "# }\n",
    "\n",
    "# rfc=RandomForestClassifier()"
   ]
  },
  {
   "cell_type": "code",
   "execution_count": 41,
   "id": "0911f7ec",
   "metadata": {
    "execution": {
     "iopub.execute_input": "2022-11-25T10:55:27.287923Z",
     "iopub.status.busy": "2022-11-25T10:55:27.287377Z",
     "iopub.status.idle": "2022-11-25T10:55:27.291069Z",
     "shell.execute_reply": "2022-11-25T10:55:27.290383Z"
    },
    "papermill": {
     "duration": 0.018063,
     "end_time": "2022-11-25T10:55:27.293170",
     "exception": false,
     "start_time": "2022-11-25T10:55:27.275107",
     "status": "completed"
    },
    "tags": []
   },
   "outputs": [],
   "source": [
    "# CV_rfc = GridSearchCV(estimator=rfc, param_grid=param_grid, cv=5,n_jobs=-1,scoring='f1_weighted')\n",
    "# CV_rfc.fit(x, y)"
   ]
  },
  {
   "cell_type": "code",
   "execution_count": 42,
   "id": "b2e5e369",
   "metadata": {
    "execution": {
     "iopub.execute_input": "2022-11-25T10:55:27.318536Z",
     "iopub.status.busy": "2022-11-25T10:55:27.318028Z",
     "iopub.status.idle": "2022-11-25T10:55:27.320857Z",
     "shell.execute_reply": "2022-11-25T10:55:27.320337Z"
    },
    "papermill": {
     "duration": 0.017158,
     "end_time": "2022-11-25T10:55:27.322403",
     "exception": false,
     "start_time": "2022-11-25T10:55:27.305245",
     "status": "completed"
    },
    "tags": []
   },
   "outputs": [],
   "source": [
    "# CV_rfc.best_params_"
   ]
  },
  {
   "cell_type": "code",
   "execution_count": 43,
   "id": "1e2e5596",
   "metadata": {
    "execution": {
     "iopub.execute_input": "2022-11-25T10:55:27.347608Z",
     "iopub.status.busy": "2022-11-25T10:55:27.347031Z",
     "iopub.status.idle": "2022-11-25T10:55:27.351269Z",
     "shell.execute_reply": "2022-11-25T10:55:27.349607Z"
    },
    "papermill": {
     "duration": 0.018585,
     "end_time": "2022-11-25T10:55:27.352995",
     "exception": false,
     "start_time": "2022-11-25T10:55:27.334410",
     "status": "completed"
    },
    "tags": []
   },
   "outputs": [],
   "source": [
    "# CV_rfc.best_score_"
   ]
  },
  {
   "attachments": {},
   "cell_type": "markdown",
   "id": "b036023d",
   "metadata": {
    "papermill": {
     "duration": 0.010956,
     "end_time": "2022-11-25T10:55:27.375218",
     "exception": false,
     "start_time": "2022-11-25T10:55:27.364262",
     "status": "completed"
    },
    "tags": []
   },
   "source": [
    "# Final Model Prediction"
   ]
  },
  {
   "cell_type": "code",
   "execution_count": 44,
   "id": "b16d20c2",
   "metadata": {
    "execution": {
     "iopub.execute_input": "2022-11-25T10:55:27.398832Z",
     "iopub.status.busy": "2022-11-25T10:55:27.398141Z",
     "iopub.status.idle": "2022-11-25T10:55:29.136756Z",
     "shell.execute_reply": "2022-11-25T10:55:29.135820Z"
    },
    "papermill": {
     "duration": 1.752437,
     "end_time": "2022-11-25T10:55:29.138971",
     "exception": false,
     "start_time": "2022-11-25T10:55:27.386534",
     "status": "completed"
    },
    "tags": []
   },
   "outputs": [],
   "source": [
    "\n",
    "reg= RandomForestClassifier(max_depth=15,random_state=30)\n",
    "reg.fit(x,y)\n",
    "\n",
    "y_pred=reg.predict(test_clean)\n"
   ]
  },
  {
   "cell_type": "code",
   "execution_count": 45,
   "id": "43fc29cc",
   "metadata": {
    "execution": {
     "iopub.execute_input": "2022-11-25T10:55:29.161164Z",
     "iopub.status.busy": "2022-11-25T10:55:29.160867Z",
     "iopub.status.idle": "2022-11-25T10:55:29.173861Z",
     "shell.execute_reply": "2022-11-25T10:55:29.173048Z"
    },
    "papermill": {
     "duration": 0.025985,
     "end_time": "2022-11-25T10:55:29.175567",
     "exception": false,
     "start_time": "2022-11-25T10:55:29.149582",
     "status": "completed"
    },
    "tags": []
   },
   "outputs": [],
   "source": [
    "d={'Offer Accepted':y_pred}\n",
    "out=pd.DataFrame(d)\n",
    "out.to_csv('submission.csv',index_label='id')"
   ]
  }
 ],
 "metadata": {
  "kernelspec": {
   "display_name": "Python 3",
   "language": "python",
   "name": "python3"
  },
  "language_info": {
   "codemirror_mode": {
    "name": "ipython",
    "version": 3
   },
   "file_extension": ".py",
   "mimetype": "text/x-python",
   "name": "python",
   "nbconvert_exporter": "python",
   "pygments_lexer": "ipython3",
   "version": "3.7.12"
  },
  "papermill": {
   "default_parameters": {},
   "duration": 12.322739,
   "end_time": "2022-11-25T10:55:29.806224",
   "environment_variables": {},
   "exception": null,
   "input_path": "__notebook__.ipynb",
   "output_path": "__notebook__.ipynb",
   "parameters": {},
   "start_time": "2022-11-25T10:55:17.483485",
   "version": "2.3.4"
  }
 },
 "nbformat": 4,
 "nbformat_minor": 5
}
